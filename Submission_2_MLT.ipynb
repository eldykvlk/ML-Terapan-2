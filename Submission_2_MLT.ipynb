{
  "nbformat": 4,
  "nbformat_minor": 0,
  "metadata": {
    "colab": {
      "provenance": []
    },
    "kernelspec": {
      "name": "python3",
      "display_name": "Python 3"
    },
    "language_info": {
      "name": "python"
    }
  },
  "cells": [
    {
      "cell_type": "markdown",
      "source": [
        "# Perkenalan Dataset"
      ],
      "metadata": {
        "id": "rAMo_ttdCgkn"
      }
    },
    {
      "cell_type": "markdown",
      "source": [
        "Proyek ini menggunakan Amazon Sales 2025 Dataset yang diambil dari [Kaggle](https://www.kaggle.com/datasets/zahidmughal2343/amazon-sales-2025). Dataset ini berisi 250 baris data transaksi penjualan di Amazon sepanjang tahun 2025. Meskipun jumlah data kurang dari 500 sampel, dataset ini tetap relevan untuk eksplorasi dan penerapan teknik analisis data atau machine learning berskala kecil. Data mencakup informasi produk, pelanggan, metode pembayaran, hingga status pemesanan.\n",
        "\n",
        "-- Kolom pada dataset:\n",
        "\n",
        "- Order ID: ID unik untuk setiap pesanan\n",
        "\n",
        "- Date: Tanggal transaksi\n",
        "\n",
        "- Product: Nama produk yang dibeli\n",
        "\n",
        "- Category: Kategori produk (misalnya Electronics, Clothing, Home Appliances)\n",
        "\n",
        "- Price: Harga satuan produk\n",
        "\n",
        "- Quantity: Jumlah produk yang dibeli\n",
        "\n",
        "- Total Sales: Total pendapatan dari pesanan (Price × Quantity)\n",
        "\n",
        "- Customer Name: Nama pelanggan\n",
        "\n",
        "- Customer Location: Kota tempat tinggal pelanggan\n",
        "\n",
        "- Payment Method: Metode pembayaran (Credit Card, Debit Card, PayPal, dll.)\n",
        "\n",
        "- Status: Status pesanan (Completed, Pending, atau Cancelled)\n",
        "\n",
        "Proyek ini akan didokumentasikan secara lengkap melalui text cell pada notebook dan bertujuan untuk menganalisis tren penjualan serta memecahkan permasalahan bisnis menggunakan pendekatan eksplorasi data dan visualisasi interaktif.\n",
        "\n",
        "Oleh: Eldy Effendi untuk Submission 2 Machine Learning Terapan Dicoding"
      ],
      "metadata": {
        "id": "_AFebXRyCl-9"
      }
    },
    {
      "cell_type": "markdown",
      "source": [
        "# Task"
      ],
      "metadata": {
        "id": "yANN7OHmouMk"
      }
    },
    {
      "cell_type": "markdown",
      "source": [
        "Membuat sistem rekomendasi dengan Content-Based Filtering"
      ],
      "metadata": {
        "id": "Vkjf5eMMovgR"
      }
    },
    {
      "cell_type": "markdown",
      "source": [
        "# 1. Data Loading"
      ],
      "metadata": {
        "id": "Q5Fc7djHEDc6"
      }
    },
    {
      "cell_type": "code",
      "source": [
        "import pandas as pd\n",
        "import numpy as np\n",
        "import matplotlib.pyplot as plt\n",
        "import seaborn as sns\n",
        "from sklearn.feature_extraction.text import TfidfVectorizer\n",
        "from sklearn.metrics.pairwise import cosine_similarity\n",
        "import re\n",
        "import pickle\n",
        "\n",
        "# Load dataset\n",
        "df = pd.read_csv(\"/content/amazon_sales_data 2025.csv\")\n",
        "df.head()"
      ],
      "metadata": {
        "colab": {
          "base_uri": "https://localhost:8080/",
          "height": 206
        },
        "id": "jrtRU2vME7Tj",
        "outputId": "916a2f22-4e7d-4625-f9cb-b49e0ad558bb"
      },
      "execution_count": null,
      "outputs": [
        {
          "output_type": "execute_result",
          "data": {
            "text/plain": [
              "  Order ID      Date        Product     Category  Price  Quantity  \\\n",
              "0  ORD0001  14-03-25  Running Shoes     Footwear     60         3   \n",
              "1  ORD0002  20-03-25     Headphones  Electronics    100         4   \n",
              "2  ORD0003  15-02-25  Running Shoes     Footwear     60         2   \n",
              "3  ORD0004  19-02-25  Running Shoes     Footwear     60         3   \n",
              "4  ORD0005  10-03-25     Smartwatch  Electronics    150         3   \n",
              "\n",
              "   Total Sales  Customer Name Customer Location Payment Method     Status  \n",
              "0          180     Emma Clark          New York     Debit Card  Cancelled  \n",
              "1          400  Emily Johnson     San Francisco     Debit Card    Pending  \n",
              "2          120       John Doe            Denver     Amazon Pay  Cancelled  \n",
              "3          180  Olivia Wilson            Dallas    Credit Card    Pending  \n",
              "4          450     Emma Clark          New York     Debit Card    Pending  "
            ],
            "text/html": [
              "\n",
              "  <div id=\"df-69d4d0fe-0663-40ea-99a3-4d778013fbc8\" class=\"colab-df-container\">\n",
              "    <div>\n",
              "<style scoped>\n",
              "    .dataframe tbody tr th:only-of-type {\n",
              "        vertical-align: middle;\n",
              "    }\n",
              "\n",
              "    .dataframe tbody tr th {\n",
              "        vertical-align: top;\n",
              "    }\n",
              "\n",
              "    .dataframe thead th {\n",
              "        text-align: right;\n",
              "    }\n",
              "</style>\n",
              "<table border=\"1\" class=\"dataframe\">\n",
              "  <thead>\n",
              "    <tr style=\"text-align: right;\">\n",
              "      <th></th>\n",
              "      <th>Order ID</th>\n",
              "      <th>Date</th>\n",
              "      <th>Product</th>\n",
              "      <th>Category</th>\n",
              "      <th>Price</th>\n",
              "      <th>Quantity</th>\n",
              "      <th>Total Sales</th>\n",
              "      <th>Customer Name</th>\n",
              "      <th>Customer Location</th>\n",
              "      <th>Payment Method</th>\n",
              "      <th>Status</th>\n",
              "    </tr>\n",
              "  </thead>\n",
              "  <tbody>\n",
              "    <tr>\n",
              "      <th>0</th>\n",
              "      <td>ORD0001</td>\n",
              "      <td>14-03-25</td>\n",
              "      <td>Running Shoes</td>\n",
              "      <td>Footwear</td>\n",
              "      <td>60</td>\n",
              "      <td>3</td>\n",
              "      <td>180</td>\n",
              "      <td>Emma Clark</td>\n",
              "      <td>New York</td>\n",
              "      <td>Debit Card</td>\n",
              "      <td>Cancelled</td>\n",
              "    </tr>\n",
              "    <tr>\n",
              "      <th>1</th>\n",
              "      <td>ORD0002</td>\n",
              "      <td>20-03-25</td>\n",
              "      <td>Headphones</td>\n",
              "      <td>Electronics</td>\n",
              "      <td>100</td>\n",
              "      <td>4</td>\n",
              "      <td>400</td>\n",
              "      <td>Emily Johnson</td>\n",
              "      <td>San Francisco</td>\n",
              "      <td>Debit Card</td>\n",
              "      <td>Pending</td>\n",
              "    </tr>\n",
              "    <tr>\n",
              "      <th>2</th>\n",
              "      <td>ORD0003</td>\n",
              "      <td>15-02-25</td>\n",
              "      <td>Running Shoes</td>\n",
              "      <td>Footwear</td>\n",
              "      <td>60</td>\n",
              "      <td>2</td>\n",
              "      <td>120</td>\n",
              "      <td>John Doe</td>\n",
              "      <td>Denver</td>\n",
              "      <td>Amazon Pay</td>\n",
              "      <td>Cancelled</td>\n",
              "    </tr>\n",
              "    <tr>\n",
              "      <th>3</th>\n",
              "      <td>ORD0004</td>\n",
              "      <td>19-02-25</td>\n",
              "      <td>Running Shoes</td>\n",
              "      <td>Footwear</td>\n",
              "      <td>60</td>\n",
              "      <td>3</td>\n",
              "      <td>180</td>\n",
              "      <td>Olivia Wilson</td>\n",
              "      <td>Dallas</td>\n",
              "      <td>Credit Card</td>\n",
              "      <td>Pending</td>\n",
              "    </tr>\n",
              "    <tr>\n",
              "      <th>4</th>\n",
              "      <td>ORD0005</td>\n",
              "      <td>10-03-25</td>\n",
              "      <td>Smartwatch</td>\n",
              "      <td>Electronics</td>\n",
              "      <td>150</td>\n",
              "      <td>3</td>\n",
              "      <td>450</td>\n",
              "      <td>Emma Clark</td>\n",
              "      <td>New York</td>\n",
              "      <td>Debit Card</td>\n",
              "      <td>Pending</td>\n",
              "    </tr>\n",
              "  </tbody>\n",
              "</table>\n",
              "</div>\n",
              "    <div class=\"colab-df-buttons\">\n",
              "\n",
              "  <div class=\"colab-df-container\">\n",
              "    <button class=\"colab-df-convert\" onclick=\"convertToInteractive('df-69d4d0fe-0663-40ea-99a3-4d778013fbc8')\"\n",
              "            title=\"Convert this dataframe to an interactive table.\"\n",
              "            style=\"display:none;\">\n",
              "\n",
              "  <svg xmlns=\"http://www.w3.org/2000/svg\" height=\"24px\" viewBox=\"0 -960 960 960\">\n",
              "    <path d=\"M120-120v-720h720v720H120Zm60-500h600v-160H180v160Zm220 220h160v-160H400v160Zm0 220h160v-160H400v160ZM180-400h160v-160H180v160Zm440 0h160v-160H620v160ZM180-180h160v-160H180v160Zm440 0h160v-160H620v160Z\"/>\n",
              "  </svg>\n",
              "    </button>\n",
              "\n",
              "  <style>\n",
              "    .colab-df-container {\n",
              "      display:flex;\n",
              "      gap: 12px;\n",
              "    }\n",
              "\n",
              "    .colab-df-convert {\n",
              "      background-color: #E8F0FE;\n",
              "      border: none;\n",
              "      border-radius: 50%;\n",
              "      cursor: pointer;\n",
              "      display: none;\n",
              "      fill: #1967D2;\n",
              "      height: 32px;\n",
              "      padding: 0 0 0 0;\n",
              "      width: 32px;\n",
              "    }\n",
              "\n",
              "    .colab-df-convert:hover {\n",
              "      background-color: #E2EBFA;\n",
              "      box-shadow: 0px 1px 2px rgba(60, 64, 67, 0.3), 0px 1px 3px 1px rgba(60, 64, 67, 0.15);\n",
              "      fill: #174EA6;\n",
              "    }\n",
              "\n",
              "    .colab-df-buttons div {\n",
              "      margin-bottom: 4px;\n",
              "    }\n",
              "\n",
              "    [theme=dark] .colab-df-convert {\n",
              "      background-color: #3B4455;\n",
              "      fill: #D2E3FC;\n",
              "    }\n",
              "\n",
              "    [theme=dark] .colab-df-convert:hover {\n",
              "      background-color: #434B5C;\n",
              "      box-shadow: 0px 1px 3px 1px rgba(0, 0, 0, 0.15);\n",
              "      filter: drop-shadow(0px 1px 2px rgba(0, 0, 0, 0.3));\n",
              "      fill: #FFFFFF;\n",
              "    }\n",
              "  </style>\n",
              "\n",
              "    <script>\n",
              "      const buttonEl =\n",
              "        document.querySelector('#df-69d4d0fe-0663-40ea-99a3-4d778013fbc8 button.colab-df-convert');\n",
              "      buttonEl.style.display =\n",
              "        google.colab.kernel.accessAllowed ? 'block' : 'none';\n",
              "\n",
              "      async function convertToInteractive(key) {\n",
              "        const element = document.querySelector('#df-69d4d0fe-0663-40ea-99a3-4d778013fbc8');\n",
              "        const dataTable =\n",
              "          await google.colab.kernel.invokeFunction('convertToInteractive',\n",
              "                                                    [key], {});\n",
              "        if (!dataTable) return;\n",
              "\n",
              "        const docLinkHtml = 'Like what you see? Visit the ' +\n",
              "          '<a target=\"_blank\" href=https://colab.research.google.com/notebooks/data_table.ipynb>data table notebook</a>'\n",
              "          + ' to learn more about interactive tables.';\n",
              "        element.innerHTML = '';\n",
              "        dataTable['output_type'] = 'display_data';\n",
              "        await google.colab.output.renderOutput(dataTable, element);\n",
              "        const docLink = document.createElement('div');\n",
              "        docLink.innerHTML = docLinkHtml;\n",
              "        element.appendChild(docLink);\n",
              "      }\n",
              "    </script>\n",
              "  </div>\n",
              "\n",
              "\n",
              "    <div id=\"df-90737340-42ca-4e03-bdc5-762467baacad\">\n",
              "      <button class=\"colab-df-quickchart\" onclick=\"quickchart('df-90737340-42ca-4e03-bdc5-762467baacad')\"\n",
              "                title=\"Suggest charts\"\n",
              "                style=\"display:none;\">\n",
              "\n",
              "<svg xmlns=\"http://www.w3.org/2000/svg\" height=\"24px\"viewBox=\"0 0 24 24\"\n",
              "     width=\"24px\">\n",
              "    <g>\n",
              "        <path d=\"M19 3H5c-1.1 0-2 .9-2 2v14c0 1.1.9 2 2 2h14c1.1 0 2-.9 2-2V5c0-1.1-.9-2-2-2zM9 17H7v-7h2v7zm4 0h-2V7h2v10zm4 0h-2v-4h2v4z\"/>\n",
              "    </g>\n",
              "</svg>\n",
              "      </button>\n",
              "\n",
              "<style>\n",
              "  .colab-df-quickchart {\n",
              "      --bg-color: #E8F0FE;\n",
              "      --fill-color: #1967D2;\n",
              "      --hover-bg-color: #E2EBFA;\n",
              "      --hover-fill-color: #174EA6;\n",
              "      --disabled-fill-color: #AAA;\n",
              "      --disabled-bg-color: #DDD;\n",
              "  }\n",
              "\n",
              "  [theme=dark] .colab-df-quickchart {\n",
              "      --bg-color: #3B4455;\n",
              "      --fill-color: #D2E3FC;\n",
              "      --hover-bg-color: #434B5C;\n",
              "      --hover-fill-color: #FFFFFF;\n",
              "      --disabled-bg-color: #3B4455;\n",
              "      --disabled-fill-color: #666;\n",
              "  }\n",
              "\n",
              "  .colab-df-quickchart {\n",
              "    background-color: var(--bg-color);\n",
              "    border: none;\n",
              "    border-radius: 50%;\n",
              "    cursor: pointer;\n",
              "    display: none;\n",
              "    fill: var(--fill-color);\n",
              "    height: 32px;\n",
              "    padding: 0;\n",
              "    width: 32px;\n",
              "  }\n",
              "\n",
              "  .colab-df-quickchart:hover {\n",
              "    background-color: var(--hover-bg-color);\n",
              "    box-shadow: 0 1px 2px rgba(60, 64, 67, 0.3), 0 1px 3px 1px rgba(60, 64, 67, 0.15);\n",
              "    fill: var(--button-hover-fill-color);\n",
              "  }\n",
              "\n",
              "  .colab-df-quickchart-complete:disabled,\n",
              "  .colab-df-quickchart-complete:disabled:hover {\n",
              "    background-color: var(--disabled-bg-color);\n",
              "    fill: var(--disabled-fill-color);\n",
              "    box-shadow: none;\n",
              "  }\n",
              "\n",
              "  .colab-df-spinner {\n",
              "    border: 2px solid var(--fill-color);\n",
              "    border-color: transparent;\n",
              "    border-bottom-color: var(--fill-color);\n",
              "    animation:\n",
              "      spin 1s steps(1) infinite;\n",
              "  }\n",
              "\n",
              "  @keyframes spin {\n",
              "    0% {\n",
              "      border-color: transparent;\n",
              "      border-bottom-color: var(--fill-color);\n",
              "      border-left-color: var(--fill-color);\n",
              "    }\n",
              "    20% {\n",
              "      border-color: transparent;\n",
              "      border-left-color: var(--fill-color);\n",
              "      border-top-color: var(--fill-color);\n",
              "    }\n",
              "    30% {\n",
              "      border-color: transparent;\n",
              "      border-left-color: var(--fill-color);\n",
              "      border-top-color: var(--fill-color);\n",
              "      border-right-color: var(--fill-color);\n",
              "    }\n",
              "    40% {\n",
              "      border-color: transparent;\n",
              "      border-right-color: var(--fill-color);\n",
              "      border-top-color: var(--fill-color);\n",
              "    }\n",
              "    60% {\n",
              "      border-color: transparent;\n",
              "      border-right-color: var(--fill-color);\n",
              "    }\n",
              "    80% {\n",
              "      border-color: transparent;\n",
              "      border-right-color: var(--fill-color);\n",
              "      border-bottom-color: var(--fill-color);\n",
              "    }\n",
              "    90% {\n",
              "      border-color: transparent;\n",
              "      border-bottom-color: var(--fill-color);\n",
              "    }\n",
              "  }\n",
              "</style>\n",
              "\n",
              "      <script>\n",
              "        async function quickchart(key) {\n",
              "          const quickchartButtonEl =\n",
              "            document.querySelector('#' + key + ' button');\n",
              "          quickchartButtonEl.disabled = true;  // To prevent multiple clicks.\n",
              "          quickchartButtonEl.classList.add('colab-df-spinner');\n",
              "          try {\n",
              "            const charts = await google.colab.kernel.invokeFunction(\n",
              "                'suggestCharts', [key], {});\n",
              "          } catch (error) {\n",
              "            console.error('Error during call to suggestCharts:', error);\n",
              "          }\n",
              "          quickchartButtonEl.classList.remove('colab-df-spinner');\n",
              "          quickchartButtonEl.classList.add('colab-df-quickchart-complete');\n",
              "        }\n",
              "        (() => {\n",
              "          let quickchartButtonEl =\n",
              "            document.querySelector('#df-90737340-42ca-4e03-bdc5-762467baacad button');\n",
              "          quickchartButtonEl.style.display =\n",
              "            google.colab.kernel.accessAllowed ? 'block' : 'none';\n",
              "        })();\n",
              "      </script>\n",
              "    </div>\n",
              "\n",
              "    </div>\n",
              "  </div>\n"
            ],
            "application/vnd.google.colaboratory.intrinsic+json": {
              "type": "dataframe",
              "variable_name": "df",
              "summary": "{\n  \"name\": \"df\",\n  \"rows\": 250,\n  \"fields\": [\n    {\n      \"column\": \"Order ID\",\n      \"properties\": {\n        \"dtype\": \"string\",\n        \"num_unique_values\": 250,\n        \"samples\": [\n          \"ORD0143\",\n          \"ORD0007\",\n          \"ORD0098\"\n        ],\n        \"semantic_type\": \"\",\n        \"description\": \"\"\n      }\n    },\n    {\n      \"column\": \"Date\",\n      \"properties\": {\n        \"dtype\": \"object\",\n        \"num_unique_values\": 60,\n        \"samples\": [\n          \"14-03-25\",\n          \"18-03-25\",\n          \"18-02-25\"\n        ],\n        \"semantic_type\": \"\",\n        \"description\": \"\"\n      }\n    },\n    {\n      \"column\": \"Product\",\n      \"properties\": {\n        \"dtype\": \"category\",\n        \"num_unique_values\": 10,\n        \"samples\": [\n          \"Washing Machine\",\n          \"Headphones\",\n          \"Book\"\n        ],\n        \"semantic_type\": \"\",\n        \"description\": \"\"\n      }\n    },\n    {\n      \"column\": \"Category\",\n      \"properties\": {\n        \"dtype\": \"category\",\n        \"num_unique_values\": 5,\n        \"samples\": [\n          \"Electronics\",\n          \"Home Appliances\",\n          \"Clothing\"\n        ],\n        \"semantic_type\": \"\",\n        \"description\": \"\"\n      }\n    },\n    {\n      \"column\": \"Price\",\n      \"properties\": {\n        \"dtype\": \"number\",\n        \"std\": 380,\n        \"min\": 15,\n        \"max\": 1200,\n        \"num_unique_values\": 10,\n        \"samples\": [\n          600,\n          100,\n          15\n        ],\n        \"semantic_type\": \"\",\n        \"description\": \"\"\n      }\n    },\n    {\n      \"column\": \"Quantity\",\n      \"properties\": {\n        \"dtype\": \"number\",\n        \"std\": 1,\n        \"min\": 1,\n        \"max\": 5,\n        \"num_unique_values\": 5,\n        \"samples\": [\n          4,\n          5,\n          2\n        ],\n        \"semantic_type\": \"\",\n        \"description\": \"\"\n      }\n    },\n    {\n      \"column\": \"Total Sales\",\n      \"properties\": {\n        \"dtype\": \"number\",\n        \"std\": 1252,\n        \"min\": 15,\n        \"max\": 6000,\n        \"num_unique_values\": 36,\n        \"samples\": [\n          800,\n          1000,\n          4000\n        ],\n        \"semantic_type\": \"\",\n        \"description\": \"\"\n      }\n    },\n    {\n      \"column\": \"Customer Name\",\n      \"properties\": {\n        \"dtype\": \"category\",\n        \"num_unique_values\": 10,\n        \"samples\": [\n          \"Chris White\",\n          \"Emily Johnson\",\n          \"David Lee\"\n        ],\n        \"semantic_type\": \"\",\n        \"description\": \"\"\n      }\n    },\n    {\n      \"column\": \"Customer Location\",\n      \"properties\": {\n        \"dtype\": \"category\",\n        \"num_unique_values\": 10,\n        \"samples\": [\n          \"Los Angeles\",\n          \"San Francisco\",\n          \"Miami\"\n        ],\n        \"semantic_type\": \"\",\n        \"description\": \"\"\n      }\n    },\n    {\n      \"column\": \"Payment Method\",\n      \"properties\": {\n        \"dtype\": \"category\",\n        \"num_unique_values\": 5,\n        \"samples\": [\n          \"Amazon Pay\",\n          \"Gift Card\",\n          \"Credit Card\"\n        ],\n        \"semantic_type\": \"\",\n        \"description\": \"\"\n      }\n    },\n    {\n      \"column\": \"Status\",\n      \"properties\": {\n        \"dtype\": \"category\",\n        \"num_unique_values\": 3,\n        \"samples\": [\n          \"Cancelled\",\n          \"Pending\",\n          \"Completed\"\n        ],\n        \"semantic_type\": \"\",\n        \"description\": \"\"\n      }\n    }\n  ]\n}"
            }
          },
          "metadata": {},
          "execution_count": 2
        }
      ]
    },
    {
      "cell_type": "markdown",
      "source": [
        "Pada tahap ini, data penjualan Amazon dibaca dari file CSV ke dalam sebuah DataFrame menggunakan pandas. Library pendukung seperti numpy, matplotlib, seaborn, dan beberapa dari scikit-learn juga diimpor untuk keperluan analisis dan pembuatan model."
      ],
      "metadata": {
        "id": "9ftgtq40Ty1z"
      }
    },
    {
      "cell_type": "markdown",
      "source": [
        "# 2. Data Exploration"
      ],
      "metadata": {
        "id": "_KUdxULbEKFR"
      }
    },
    {
      "cell_type": "code",
      "source": [
        "relevant_features = ['Product', 'Category', 'Price', 'Customer Name', 'Customer Location']\n",
        "print(\"Relevant Features:\", relevant_features)\n",
        "\n",
        "# Missing Value Analysis\n",
        "missing_values = df.isnull().sum()\n",
        "missing_percentage = (missing_values / len(df)) * 100\n",
        "missing_info = pd.DataFrame({'Missing Values': missing_values, 'Percentage': missing_percentage})\n",
        "print(\"\\nMissing Value Analysis:\\n\", missing_info)\n",
        "\n",
        "# Distribution Analysis (Numerical Features)\n",
        "if 'Price' in df.columns and 'Quantity' in df.columns:\n",
        "    plt.figure(figsize=(12, 6))\n",
        "    plt.subplot(1, 2, 1)\n",
        "    sns.histplot(df['Price'], kde=True)\n",
        "    plt.title('Distribution of Price')\n",
        "    plt.subplot(1, 2, 2)\n",
        "    sns.histplot(df['Quantity'], kde=True)\n",
        "    plt.title('Distribution of Quantity')\n",
        "    plt.tight_layout()\n",
        "    plt.show()\n",
        "\n",
        "# Distribution Analysis (Categorical Features)\n",
        "if 'Category' in df.columns and 'Customer Location' in df.columns:\n",
        "    plt.figure(figsize=(12, 6))\n",
        "    plt.subplot(1, 2, 1)\n",
        "    df['Category'].value_counts().plot(kind='bar')\n",
        "    plt.title('Distribution of Product Categories')\n",
        "    plt.xticks(rotation=45, ha='right')\n",
        "\n",
        "    plt.subplot(1, 2, 2)\n",
        "    df['Customer Location'].value_counts().plot(kind='bar')\n",
        "    plt.title('Distribution of Customer Locations')\n",
        "    plt.xticks(rotation=45, ha='right')\n",
        "    plt.tight_layout()\n",
        "    plt.show()\n",
        "\n",
        "# Correlation Analysis\n",
        "numerical_features = ['Price', 'Quantity', 'Total Sales']\n",
        "available_numerics = [col for col in numerical_features if col in df.columns]\n",
        "if len(available_numerics) >= 2:\n",
        "    correlation_matrix = df[available_numerics].corr()\n",
        "    plt.figure(figsize=(8, 6))\n",
        "    sns.heatmap(correlation_matrix, annot=True, cmap='coolwarm', fmt=\".2f\")\n",
        "    plt.title('Correlation Matrix of Numerical Features')\n",
        "    plt.show()"
      ],
      "metadata": {
        "colab": {
          "base_uri": "https://localhost:8080/",
          "height": 1000
        },
        "id": "4_D2kwYNFKFk",
        "outputId": "d5592eae-6094-4fff-dcdb-9a36344982e1"
      },
      "execution_count": null,
      "outputs": [
        {
          "output_type": "stream",
          "name": "stdout",
          "text": [
            "Relevant Features: ['Product', 'Category', 'Price', 'Customer Name', 'Customer Location']\n",
            "\n",
            "Missing Value Analysis:\n",
            "                    Missing Values  Percentage\n",
            "Order ID                        0         0.0\n",
            "Date                            0         0.0\n",
            "Product                         0         0.0\n",
            "Category                        0         0.0\n",
            "Price                           0         0.0\n",
            "Quantity                        0         0.0\n",
            "Total Sales                     0         0.0\n",
            "Customer Name                   0         0.0\n",
            "Customer Location               0         0.0\n",
            "Payment Method                  0         0.0\n",
            "Status                          0         0.0\n"
          ]
        },
        {
          "output_type": "display_data",
          "data": {
            "text/plain": [
              "<Figure size 1200x600 with 2 Axes>"
            ],
            "image/png": "[encoded data removed]"
          },
          "metadata": {}
        },
        {
          "output_type": "display_data",
          "data": {
            "text/plain": [
              "<Figure size 1200x600 with 2 Axes>"
            ],
            "image/png": "[encoded data removed]"
          },
          "metadata": {}
        },
        {
          "output_type": "display_data",
          "data": {
            "text/plain": [
              "<Figure size 800x600 with 2 Axes>"
            ],
            "image/png": "[encoded data removed]"
          },
          "metadata": {}
        }
      ]
    },
    {
      "cell_type": "code",
      "source": [
        "df.describe()"
      ],
      "metadata": {
        "colab": {
          "base_uri": "https://localhost:8080/",
          "height": 300
        },
        "id": "mMNwImHlmae0",
        "outputId": "710c5d68-5aa6-4137-df57-9f77d1271b30"
      },
      "execution_count": null,
      "outputs": [
        {
          "output_type": "execute_result",
          "data": {
            "text/plain": [
              "             Price    Quantity  Total Sales\n",
              "count   250.000000  250.000000   250.000000\n",
              "mean    343.580000    2.856000   975.380000\n",
              "std     380.635808    1.429489  1252.112254\n",
              "min      15.000000    1.000000    15.000000\n",
              "25%      40.000000    2.000000   100.000000\n",
              "50%     150.000000    3.000000   400.000000\n",
              "75%     600.000000    4.000000  1500.000000\n",
              "max    1200.000000    5.000000  6000.000000"
            ],
            "text/html": [
              "\n",
              "  <div id=\"df-7869ad84-b162-4675-ab19-476c25f34ba2\" class=\"colab-df-container\">\n",
              "    <div>\n",
              "<style scoped>\n",
              "    .dataframe tbody tr th:only-of-type {\n",
              "        vertical-align: middle;\n",
              "    }\n",
              "\n",
              "    .dataframe tbody tr th {\n",
              "        vertical-align: top;\n",
              "    }\n",
              "\n",
              "    .dataframe thead th {\n",
              "        text-align: right;\n",
              "    }\n",
              "</style>\n",
              "<table border=\"1\" class=\"dataframe\">\n",
              "  <thead>\n",
              "    <tr style=\"text-align: right;\">\n",
              "      <th></th>\n",
              "      <th>Price</th>\n",
              "      <th>Quantity</th>\n",
              "      <th>Total Sales</th>\n",
              "    </tr>\n",
              "  </thead>\n",
              "  <tbody>\n",
              "    <tr>\n",
              "      <th>count</th>\n",
              "      <td>250.000000</td>\n",
              "      <td>250.000000</td>\n",
              "      <td>250.000000</td>\n",
              "    </tr>\n",
              "    <tr>\n",
              "      <th>mean</th>\n",
              "      <td>343.580000</td>\n",
              "      <td>2.856000</td>\n",
              "      <td>975.380000</td>\n",
              "    </tr>\n",
              "    <tr>\n",
              "      <th>std</th>\n",
              "      <td>380.635808</td>\n",
              "      <td>1.429489</td>\n",
              "      <td>1252.112254</td>\n",
              "    </tr>\n",
              "    <tr>\n",
              "      <th>min</th>\n",
              "      <td>15.000000</td>\n",
              "      <td>1.000000</td>\n",
              "      <td>15.000000</td>\n",
              "    </tr>\n",
              "    <tr>\n",
              "      <th>25%</th>\n",
              "      <td>40.000000</td>\n",
              "      <td>2.000000</td>\n",
              "      <td>100.000000</td>\n",
              "    </tr>\n",
              "    <tr>\n",
              "      <th>50%</th>\n",
              "      <td>150.000000</td>\n",
              "      <td>3.000000</td>\n",
              "      <td>400.000000</td>\n",
              "    </tr>\n",
              "    <tr>\n",
              "      <th>75%</th>\n",
              "      <td>600.000000</td>\n",
              "      <td>4.000000</td>\n",
              "      <td>1500.000000</td>\n",
              "    </tr>\n",
              "    <tr>\n",
              "      <th>max</th>\n",
              "      <td>1200.000000</td>\n",
              "      <td>5.000000</td>\n",
              "      <td>6000.000000</td>\n",
              "    </tr>\n",
              "  </tbody>\n",
              "</table>\n",
              "</div>\n",
              "    <div class=\"colab-df-buttons\">\n",
              "\n",
              "  <div class=\"colab-df-container\">\n",
              "    <button class=\"colab-df-convert\" onclick=\"convertToInteractive('df-7869ad84-b162-4675-ab19-476c25f34ba2')\"\n",
              "            title=\"Convert this dataframe to an interactive table.\"\n",
              "            style=\"display:none;\">\n",
              "\n",
              "  <svg xmlns=\"http://www.w3.org/2000/svg\" height=\"24px\" viewBox=\"0 -960 960 960\">\n",
              "    <path d=\"M120-120v-720h720v720H120Zm60-500h600v-160H180v160Zm220 220h160v-160H400v160Zm0 220h160v-160H400v160ZM180-400h160v-160H180v160Zm440 0h160v-160H620v160ZM180-180h160v-160H180v160Zm440 0h160v-160H620v160Z\"/>\n",
              "  </svg>\n",
              "    </button>\n",
              "\n",
              "  <style>\n",
              "    .colab-df-container {\n",
              "      display:flex;\n",
              "      gap: 12px;\n",
              "    }\n",
              "\n",
              "    .colab-df-convert {\n",
              "      background-color: #E8F0FE;\n",
              "      border: none;\n",
              "      border-radius: 50%;\n",
              "      cursor: pointer;\n",
              "      display: none;\n",
              "      fill: #1967D2;\n",
              "      height: 32px;\n",
              "      padding: 0 0 0 0;\n",
              "      width: 32px;\n",
              "    }\n",
              "\n",
              "    .colab-df-convert:hover {\n",
              "      background-color: #E2EBFA;\n",
              "      box-shadow: 0px 1px 2px rgba(60, 64, 67, 0.3), 0px 1px 3px 1px rgba(60, 64, 67, 0.15);\n",
              "      fill: #174EA6;\n",
              "    }\n",
              "\n",
              "    .colab-df-buttons div {\n",
              "      margin-bottom: 4px;\n",
              "    }\n",
              "\n",
              "    [theme=dark] .colab-df-convert {\n",
              "      background-color: #3B4455;\n",
              "      fill: #D2E3FC;\n",
              "    }\n",
              "\n",
              "    [theme=dark] .colab-df-convert:hover {\n",
              "      background-color: #434B5C;\n",
              "      box-shadow: 0px 1px 3px 1px rgba(0, 0, 0, 0.15);\n",
              "      filter: drop-shadow(0px 1px 2px rgba(0, 0, 0, 0.3));\n",
              "      fill: #FFFFFF;\n",
              "    }\n",
              "  </style>\n",
              "\n",
              "    <script>\n",
              "      const buttonEl =\n",
              "        document.querySelector('#df-7869ad84-b162-4675-ab19-476c25f34ba2 button.colab-df-convert');\n",
              "      buttonEl.style.display =\n",
              "        google.colab.kernel.accessAllowed ? 'block' : 'none';\n",
              "\n",
              "      async function convertToInteractive(key) {\n",
              "        const element = document.querySelector('#df-7869ad84-b162-4675-ab19-476c25f34ba2');\n",
              "        const dataTable =\n",
              "          await google.colab.kernel.invokeFunction('convertToInteractive',\n",
              "                                                    [key], {});\n",
              "        if (!dataTable) return;\n",
              "\n",
              "        const docLinkHtml = 'Like what you see? Visit the ' +\n",
              "          '<a target=\"_blank\" href=https://colab.research.google.com/notebooks/data_table.ipynb>data table notebook</a>'\n",
              "          + ' to learn more about interactive tables.';\n",
              "        element.innerHTML = '';\n",
              "        dataTable['output_type'] = 'display_data';\n",
              "        await google.colab.output.renderOutput(dataTable, element);\n",
              "        const docLink = document.createElement('div');\n",
              "        docLink.innerHTML = docLinkHtml;\n",
              "        element.appendChild(docLink);\n",
              "      }\n",
              "    </script>\n",
              "  </div>\n",
              "\n",
              "\n",
              "    <div id=\"df-06c1547c-ba6e-4b06-8c19-121653df54cc\">\n",
              "      <button class=\"colab-df-quickchart\" onclick=\"quickchart('df-06c1547c-ba6e-4b06-8c19-121653df54cc')\"\n",
              "                title=\"Suggest charts\"\n",
              "                style=\"display:none;\">\n",
              "\n",
              "<svg xmlns=\"http://www.w3.org/2000/svg\" height=\"24px\"viewBox=\"0 0 24 24\"\n",
              "     width=\"24px\">\n",
              "    <g>\n",
              "        <path d=\"M19 3H5c-1.1 0-2 .9-2 2v14c0 1.1.9 2 2 2h14c1.1 0 2-.9 2-2V5c0-1.1-.9-2-2-2zM9 17H7v-7h2v7zm4 0h-2V7h2v10zm4 0h-2v-4h2v4z\"/>\n",
              "    </g>\n",
              "</svg>\n",
              "      </button>\n",
              "\n",
              "<style>\n",
              "  .colab-df-quickchart {\n",
              "      --bg-color: #E8F0FE;\n",
              "      --fill-color: #1967D2;\n",
              "      --hover-bg-color: #E2EBFA;\n",
              "      --hover-fill-color: #174EA6;\n",
              "      --disabled-fill-color: #AAA;\n",
              "      --disabled-bg-color: #DDD;\n",
              "  }\n",
              "\n",
              "  [theme=dark] .colab-df-quickchart {\n",
              "      --bg-color: #3B4455;\n",
              "      --fill-color: #D2E3FC;\n",
              "      --hover-bg-color: #434B5C;\n",
              "      --hover-fill-color: #FFFFFF;\n",
              "      --disabled-bg-color: #3B4455;\n",
              "      --disabled-fill-color: #666;\n",
              "  }\n",
              "\n",
              "  .colab-df-quickchart {\n",
              "    background-color: var(--bg-color);\n",
              "    border: none;\n",
              "    border-radius: 50%;\n",
              "    cursor: pointer;\n",
              "    display: none;\n",
              "    fill: var(--fill-color);\n",
              "    height: 32px;\n",
              "    padding: 0;\n",
              "    width: 32px;\n",
              "  }\n",
              "\n",
              "  .colab-df-quickchart:hover {\n",
              "    background-color: var(--hover-bg-color);\n",
              "    box-shadow: 0 1px 2px rgba(60, 64, 67, 0.3), 0 1px 3px 1px rgba(60, 64, 67, 0.15);\n",
              "    fill: var(--button-hover-fill-color);\n",
              "  }\n",
              "\n",
              "  .colab-df-quickchart-complete:disabled,\n",
              "  .colab-df-quickchart-complete:disabled:hover {\n",
              "    background-color: var(--disabled-bg-color);\n",
              "    fill: var(--disabled-fill-color);\n",
              "    box-shadow: none;\n",
              "  }\n",
              "\n",
              "  .colab-df-spinner {\n",
              "    border: 2px solid var(--fill-color);\n",
              "    border-color: transparent;\n",
              "    border-bottom-color: var(--fill-color);\n",
              "    animation:\n",
              "      spin 1s steps(1) infinite;\n",
              "  }\n",
              "\n",
              "  @keyframes spin {\n",
              "    0% {\n",
              "      border-color: transparent;\n",
              "      border-bottom-color: var(--fill-color);\n",
              "      border-left-color: var(--fill-color);\n",
              "    }\n",
              "    20% {\n",
              "      border-color: transparent;\n",
              "      border-left-color: var(--fill-color);\n",
              "      border-top-color: var(--fill-color);\n",
              "    }\n",
              "    30% {\n",
              "      border-color: transparent;\n",
              "      border-left-color: var(--fill-color);\n",
              "      border-top-color: var(--fill-color);\n",
              "      border-right-color: var(--fill-color);\n",
              "    }\n",
              "    40% {\n",
              "      border-color: transparent;\n",
              "      border-right-color: var(--fill-color);\n",
              "      border-top-color: var(--fill-color);\n",
              "    }\n",
              "    60% {\n",
              "      border-color: transparent;\n",
              "      border-right-color: var(--fill-color);\n",
              "    }\n",
              "    80% {\n",
              "      border-color: transparent;\n",
              "      border-right-color: var(--fill-color);\n",
              "      border-bottom-color: var(--fill-color);\n",
              "    }\n",
              "    90% {\n",
              "      border-color: transparent;\n",
              "      border-bottom-color: var(--fill-color);\n",
              "    }\n",
              "  }\n",
              "</style>\n",
              "\n",
              "      <script>\n",
              "        async function quickchart(key) {\n",
              "          const quickchartButtonEl =\n",
              "            document.querySelector('#' + key + ' button');\n",
              "          quickchartButtonEl.disabled = true;  // To prevent multiple clicks.\n",
              "          quickchartButtonEl.classList.add('colab-df-spinner');\n",
              "          try {\n",
              "            const charts = await google.colab.kernel.invokeFunction(\n",
              "                'suggestCharts', [key], {});\n",
              "          } catch (error) {\n",
              "            console.error('Error during call to suggestCharts:', error);\n",
              "          }\n",
              "          quickchartButtonEl.classList.remove('colab-df-spinner');\n",
              "          quickchartButtonEl.classList.add('colab-df-quickchart-complete');\n",
              "        }\n",
              "        (() => {\n",
              "          let quickchartButtonEl =\n",
              "            document.querySelector('#df-06c1547c-ba6e-4b06-8c19-121653df54cc button');\n",
              "          quickchartButtonEl.style.display =\n",
              "            google.colab.kernel.accessAllowed ? 'block' : 'none';\n",
              "        })();\n",
              "      </script>\n",
              "    </div>\n",
              "\n",
              "    </div>\n",
              "  </div>\n"
            ],
            "application/vnd.google.colaboratory.intrinsic+json": {
              "type": "dataframe",
              "summary": "{\n  \"name\": \"df\",\n  \"rows\": 8,\n  \"fields\": [\n    {\n      \"column\": \"Price\",\n      \"properties\": {\n        \"dtype\": \"number\",\n        \"std\": 385.5033779538055,\n        \"min\": 15.0,\n        \"max\": 1200.0,\n        \"num_unique_values\": 8,\n        \"samples\": [\n          343.58,\n          150.0,\n          250.0\n        ],\n        \"semantic_type\": \"\",\n        \"description\": \"\"\n      }\n    },\n    {\n      \"column\": \"Quantity\",\n      \"properties\": {\n        \"dtype\": \"number\",\n        \"std\": 87.4241433433517,\n        \"min\": 1.0,\n        \"max\": 250.0,\n        \"num_unique_values\": 8,\n        \"samples\": [\n          2.856,\n          3.0,\n          250.0\n        ],\n        \"semantic_type\": \"\",\n        \"description\": \"\"\n      }\n    },\n    {\n      \"column\": \"Total Sales\",\n      \"properties\": {\n        \"dtype\": \"number\",\n        \"std\": 1972.6822576857041,\n        \"min\": 15.0,\n        \"max\": 6000.0,\n        \"num_unique_values\": 8,\n        \"samples\": [\n          975.38,\n          400.0,\n          250.0\n        ],\n        \"semantic_type\": \"\",\n        \"description\": \"\"\n      }\n    }\n  ]\n}"
            }
          },
          "metadata": {},
          "execution_count": 7
        }
      ]
    },
    {
      "cell_type": "code",
      "source": [
        "print(df.dtypes)"
      ],
      "metadata": {
        "colab": {
          "base_uri": "https://localhost:8080/"
        },
        "id": "wDPT2zoqnVjb",
        "outputId": "dd4584a6-983f-4499-f22d-c980d3ba2ebf"
      },
      "execution_count": null,
      "outputs": [
        {
          "output_type": "stream",
          "name": "stdout",
          "text": [
            "Order ID             object\n",
            "Date                 object\n",
            "Product              object\n",
            "Category             object\n",
            "Price                 int64\n",
            "Quantity              int64\n",
            "Total Sales           int64\n",
            "Customer Name        object\n",
            "Customer Location    object\n",
            "Payment Method       object\n",
            "Status               object\n",
            "dtype: object\n"
          ]
        }
      ]
    },
    {
      "cell_type": "markdown",
      "source": [
        "Tahap ini bertujuan untuk memahami struktur dan isi data:\n",
        "\n",
        "- Identifikasi fitur penting seperti produk, kategori, harga, nama pelanggan, dan lokasi pelanggan.\n",
        "\n",
        "- Analisis data hilang dilakukan untuk mengetahui berapa banyak nilai kosong pada setiap kolom.\n",
        "\n",
        "- Distribusi data numerik dan kategorikal divisualisasikan menggunakan histogram dan bar chart.\n",
        "\n",
        "- Analisis korelasi antara fitur numerik dilakukan untuk mengetahui hubungan antara harga, kuantitas, dan total penjualan.\n",
        "\n",
        "- Menampilkan data numerik menggunakan fungsi describe() untuk mengetahui hitungan seperti Mean dan lain-lain.\n",
        "\n",
        "- Menampilkan tipe data.\n",
        "\n",
        "Output:\n",
        "\n",
        "- Relevant Features: Menampilkan daftar fitur yang relevan untuk analisis.\n",
        "\n",
        "- Missing Value Analysis: Menunjukkan bahwa tidak ada nilai yang hilang dalam dataset.\n",
        "\n",
        "-- Distribution Analysis (Numerical Features):\n",
        "\n",
        "- Histogram Price: Distribusi harga produk menunjukkan bahwa sebagian besar produk memiliki harga di bawah 200.\n",
        "\n",
        "- Histogram Quantity: Distribusi kuantitas pembelian menunjukkan bahwa sebagian besar pembelian dilakukan dalam jumlah 1 hingga 5.\n",
        "\n",
        "-- Distribution Analysis (Categorical Features):\n",
        "\n",
        "- Bar Chart Category: Distribusi kategori produk menunjukkan bahwa kategori \"Electronics\" dan \"Footwear\" mendominasi.\n",
        "\n",
        "- Bar Chart Customer Location: Distribusi lokasi pelanggan menunjukkan bahwa lokasi tertentu seperti \"New York\" dan \"San Francisco\" lebih sering muncul.\n",
        "\n",
        "- Correlation Analysis: Heatmap korelasi antara fitur numerik (Price, Quantity, Total Sales) menunjukkan bahwa Total Sales memiliki korelasi positif yang kuat dengan Quantity dan Price.\n",
        "\n",
        "- Data mencakup 250 transaksi, dengan harga rata-rata produk 343.58 (satuan mata uang tidak disebutkan), kuantitas rata-rata 2.86, dan rata-rata total penjualan 975.38.\n",
        "\n",
        "- Harga produk bervariasi luas (standar deviasi 380.64), mulai dari 15 hingga 1200, sedangkan kuantitas berkisar antara 1 dan 5.\n",
        "\n",
        "- Total penjualan juga memiliki variasi yang besar (standar deviasi 1252.11), dengan nilai tengah 400 dan nilai maksimum 6000, menunjukkan adanya beberapa transaksi yang jauh lebih besar dari yang lain.\n",
        "\n",
        "- Kolom 'Order ID', 'Product', 'Category', 'Customer Name', 'Customer Location', 'Payment Method', dan 'Status' bertipe object (string), 'Price', 'Quantity', dan 'Total Sales' bertipe integer, dan kolom 'Date' saat ini bertipe object namun perlu diubah ke tipe datetime."
      ],
      "metadata": {
        "id": "eTcgzcO3T2v4"
      }
    },
    {
      "cell_type": "markdown",
      "source": [
        "# 3. Data Cleaning"
      ],
      "metadata": {
        "id": "AjYFGWhbEOW5"
      }
    },
    {
      "cell_type": "code",
      "source": [
        "# Convert 'Date' column to datetime objects\n",
        "if 'Date' in df.columns:\n",
        "    try:\n",
        "        df['Date'] = pd.to_datetime(df['Date'], format='%d-%m-%y', errors='coerce')\n",
        "    except ValueError:\n",
        "        print(\"Error: Invalid date format in 'Date' column.\")\n",
        "\n",
        "# Clean categorical columns\n",
        "categorical_cols = ['Order ID', 'Product', 'Category', 'Customer Name', 'Customer Location', 'Payment Method', 'Status']\n",
        "for col in categorical_cols:\n",
        "    if col in df.columns:\n",
        "        df[col] = df[col].astype(str).str.strip().str.lower()\n",
        "\n",
        "# Remove duplicate rows\n",
        "num_duplicates = df.duplicated().sum()\n",
        "print(\"Jumlah duplikasi ditemukan:\", num_duplicates)\n",
        "df = df.drop_duplicates()\n",
        "print(\"Jumlah data setelah menghapus duplikasi:\", df.shape[0])\n",
        "\n",
        "# Cek Outlier\n",
        "if 'Price' in df.columns:\n",
        "    plt.figure(figsize=(6, 4))\n",
        "    sns.boxplot(x=df['Price'])\n",
        "    plt.title(\"Boxplot Harga Produk (Outlier Detection)\")\n",
        "    plt.tight_layout()\n",
        "    plt.show()\n",
        "\n",
        "    Q1 = df['Price'].quantile(0.25)\n",
        "    Q3 = df['Price'].quantile(0.75)\n",
        "    IQR = Q3 - Q1\n",
        "    outliers = df[(df['Price'] < Q1 - 1.5 * IQR) | (df['Price'] > Q3 + 1.5 * IQR)]"
      ],
      "metadata": {
        "colab": {
          "base_uri": "https://localhost:8080/",
          "height": 445
        },
        "id": "4rpp6vuAFr6V",
        "outputId": "de17805f-6934-4f35-d603-9c00a3f7adfc"
      },
      "execution_count": null,
      "outputs": [
        {
          "output_type": "stream",
          "name": "stdout",
          "text": [
            "Jumlah duplikasi ditemukan: 0\n",
            "Jumlah data setelah menghapus duplikasi: 250\n"
          ]
        },
        {
          "output_type": "display_data",
          "data": {
            "text/plain": [
              "<Figure size 600x400 with 1 Axes>"
            ],
            "image/png": "[encoded data removed]"
          },
          "metadata": {}
        }
      ]
    },
    {
      "cell_type": "markdown",
      "source": [
        "Tahapan ini membersihkan data agar siap digunakan:\n",
        "\n",
        "- Konversi kolom tanggal ke format datetime.\n",
        "\n",
        "- Normalisasi data kategorikal, seperti nama produk dan lokasi pelanggan, diubah menjadi huruf kecil dan dihapus spasi ekstra.\n",
        "\n",
        "- Penghapusan duplikat baris agar tidak terjadi bias dalam analisis.\n",
        "\n",
        "- Deteksi dan analisis outlier dilakukan terhadap harga untuk memahami distribusi yang tidak normal."
      ],
      "metadata": {
        "id": "i61iNzdVT6wk"
      }
    },
    {
      "cell_type": "markdown",
      "source": [
        "- Jumlah duplikasi ditemukan: 0: Baris ini mengindikasikan bahwa tidak ada baris duplikat yang terdeteksi dalam DataFrame df sebelum penghapusan. Ini berarti setiap baris dalam dataset adalah unik berdasarkan seluruh kolomnya.\n",
        "\n",
        "- Jumlah data setelah menghapus duplikasi: 250: Setelah proses pengecekan dan penghapusan duplikasi (meskipun tidak ada yang ditemukan), jumlah total baris dalam DataFrame df adalah 250. Ini adalah ukuran dataset yang akan digunakan untuk analisis selanjutnya.\n",
        "\n",
        "- Boxplot ini digunakan untuk mendeteksi nilai-nilai ekstrem (outlier) dalam kolom Price.\n",
        "\n",
        "- Sebagian besar harga produk berada dalam rentang interkuartil (Q1 ke Q3), yaitu antara sekitar 50 hingga 600.\n",
        "\n",
        "- Terlihat bahwa ada harga-harga yang jauh lebih tinggi dari rentang normal (hingga 1200), yang diklasifikasikan sebagai outlier—jumlahnya sebanyak 30 data. Deteksi ini penting agar analisis dan model tidak bias karena nilai ekstrem."
      ],
      "metadata": {
        "id": "gEtn3HZ9CLPH"
      }
    },
    {
      "cell_type": "markdown",
      "source": [
        "# 4. Feature Engineering"
      ],
      "metadata": {
        "id": "NaZCIGeHESoa"
      }
    },
    {
      "cell_type": "code",
      "source": [
        "# Cleaning Text\n",
        "def clean_text(text):\n",
        "    text = str(text).lower()\n",
        "    text = re.sub(r'[^a-zA-Z0-9 ]', '', text)\n",
        "    return text\n",
        "\n",
        "if 'Product' in df.columns and 'Category' in df.columns:\n",
        "    df['Product_clean'] = df['Product'].apply(clean_text)\n",
        "    df['Category_clean'] = df['Category'].apply(clean_text)\n",
        "    df['description'] = df['Product_clean'] + \" \" + df['Category_clean']"
      ],
      "metadata": {
        "id": "pOKV9dXOGMN6"
      },
      "execution_count": null,
      "outputs": []
    },
    {
      "cell_type": "markdown",
      "source": [
        "Di tahap ini, fitur-fitur baru dibentuk dari data yang ada:\n",
        "\n",
        "- Pembersihan teks produk dan kategori agar siap diolah oleh model berbasis teks.\n",
        "\n",
        "- Penggabungan fitur produk dan kategori menjadi deskripsi gabungan untuk masing-masing item, yang akan digunakan untuk analisis berbasis teks."
      ],
      "metadata": {
        "id": "1ogE3RahUDsR"
      }
    },
    {
      "cell_type": "markdown",
      "source": [
        "# 5. Model Training"
      ],
      "metadata": {
        "id": "agQyvT-_EXKS"
      }
    },
    {
      "cell_type": "code",
      "source": [
        "vectorizer = TfidfVectorizer(stop_words='english')\n",
        "tfidf_matrix = vectorizer.fit_transform(df['description'])\n",
        "cosine_sim = cosine_similarity(tfidf_matrix, tfidf_matrix)"
      ],
      "metadata": {
        "id": "5_cR-qX7GPxH"
      },
      "execution_count": null,
      "outputs": []
    },
    {
      "cell_type": "markdown",
      "source": [
        "TF-IDF Vectorization digunakan untuk mengubah teks deskripsi menjadi vektor numerik.\n",
        "\n",
        "Cosine Similarity dihitung antar produk berdasarkan vektor deskripsi untuk mengukur seberapa mirip satu produk dengan produk lain."
      ],
      "metadata": {
        "id": "Giyq20xdUFt7"
      }
    },
    {
      "cell_type": "markdown",
      "source": [
        "# 6. Model Evaluation"
      ],
      "metadata": {
        "id": "AUkUAEpXEds5"
      }
    },
    {
      "cell_type": "code",
      "source": [
        "sim_scores_flat = cosine_sim[np.triu_indices_from(cosine_sim, k=1)]\n",
        "plt.hist(sim_scores_flat, bins=30, color='green', alpha=0.7)\n",
        "plt.title(\"Distribusi Nilai Cosine Similarity\")\n",
        "plt.xlabel(\"Similarity\")\n",
        "plt.ylabel(\"Jumlah Pasangan Produk\")\n",
        "plt.show()"
      ],
      "metadata": {
        "colab": {
          "base_uri": "https://localhost:8080/",
          "height": 472
        },
        "id": "bapKHyDRGWKK",
        "outputId": "dfee2b66-2c94-4b16-c388-d867d2894948"
      },
      "execution_count": null,
      "outputs": [
        {
          "output_type": "display_data",
          "data": {
            "text/plain": [
              "<Figure size 640x480 with 1 Axes>"
            ],
            "image/png": "[encoded data removed]"
          },
          "metadata": {}
        }
      ]
    },
    {
      "cell_type": "markdown",
      "source": [
        "Distribusi dari nilai cosine similarity divisualisasikan untuk memahami sebaran kemiripan antar produk. Ini membantu dalam mengevaluasi seberapa baik produk bisa direkomendasikan satu sama lain berdasarkan deskripsi.\n",
        "\n",
        " 1. Dominasi Nilai Rendah (Similarity ~ 0.0)\n",
        "Sekitar 22.000+ pasangan produk memiliki nilai cosine similarity mendekati 0.0.\n",
        "\n",
        " Ini berarti sebagian besar produk memiliki deskripsi yang sangat berbeda satu sama lain.\n",
        "\n",
        " Hal ini wajar dan menunjukkan keberagaman deskripsi dalam katalog produk.\n",
        "\n",
        " 2. Nilai Menengah (~0.2 – 0.4)\n",
        " Sekitar 4.000+ pasangan berada pada rentang similarity antara 0.2 hingga 0.4.\n",
        "\n",
        " Ini menunjukkan tingkat kemiripan sedang—biasanya terjadi jika dua produk memiliki kata kunci yang mirip di deskripsinya, tetapi berbeda konteks atau kategori.\n",
        "\n",
        "3. Nilai Tinggi (~0.9 – 1.0)\n",
        " Sekitar 3.000 pasangan produk menunjukkan nilai cosine similarity yang sangat tinggi (≥ 0.9).\n",
        "\n",
        " Ini berarti mereka memiliki deskripsi yang sangat mirip—kemungkinan besar varian dari produk yang sama, atau produk pelengkap dari kategori yang sama.\n",
        "\n"
      ],
      "metadata": {
        "id": "nyzfc9WZUItn"
      }
    },
    {
      "cell_type": "markdown",
      "source": [
        "# 7. Inference Function (Fungsi Rekomendasi)"
      ],
      "metadata": {
        "id": "BUAce32mEh6u"
      }
    },
    {
      "cell_type": "code",
      "source": [
        "def recommend_bundled_products(product_name, top_n=3):\n",
        "    # Normalisasi nama produk\n",
        "    product_name = product_name.lower().strip()\n",
        "\n",
        "    # Cari pelanggan yang pernah beli produk ini\n",
        "    buyers = df[df['Product'].str.lower() == product_name]['Customer Name'].unique()\n",
        "\n",
        "    # Ambil semua produk yang dibeli oleh pelanggan tersebut\n",
        "    bundled_df = df[df['Customer Name'].isin(buyers)]\n",
        "\n",
        "    # Hitung frekuensi produk selain produk input\n",
        "    bundled_counts = (\n",
        "        bundled_df[bundled_df['Product'].str.lower() != product_name]\n",
        "        ['Product']\n",
        "        .value_counts()\n",
        "        .head(top_n)\n",
        "    )\n",
        "\n",
        "    if bundled_counts.empty:\n",
        "        return \"Tidak ada produk lain yang biasa dibeli bersama produk ini.\"\n",
        "\n",
        "    result_df = bundled_counts.reset_index().rename(columns={'index': 'Product', 'Product': 'Frequency'})\n",
        "\n",
        "    # Tambahkan kalimat penjelasan\n",
        "    return f\"📦 Pelanggan yang membeli {product_name.title()} juga sering membeli produk berikut:\\n\\n{result_df}\"\n",
        "\n",
        "# Input produk dan langsung tampilkan hasil rekomendasi\n",
        "print(recommend_bundled_products(\"Headphones\"))\n"
      ],
      "metadata": {
        "colab": {
          "base_uri": "https://localhost:8080/"
        },
        "id": "2D_-v12nGlTZ",
        "outputId": "53dc1d6c-2d18-46ee-bc04-0cea5f0cf4db"
      },
      "execution_count": null,
      "outputs": [
        {
          "output_type": "stream",
          "name": "stdout",
          "text": [
            "📦 Pelanggan yang membeli Headphones juga sering membeli produk berikut:\n",
            "\n",
            "       Frequency  count\n",
            "0     smartphone     35\n",
            "1     smartwatch     34\n",
            "2  running shoes     27\n"
          ]
        }
      ]
    },
    {
      "cell_type": "markdown",
      "source": [
        "- Fungsi ini merekomendasikan produk yang sering dibeli bersama produk tertentu berdasarkan data historis pembelian oleh pelanggan yang sama.\n",
        "\n",
        "- Mengidentifikasi produk lain yang paling sering dibeli oleh pelanggan yang juga membeli produk input, dan menampilkannya sebagai rekomendasi bundling."
      ],
      "metadata": {
        "id": "79yvC4QYULna"
      }
    },
    {
      "cell_type": "markdown",
      "source": [
        "# 8. Export Model dan Dataset"
      ],
      "metadata": {
        "id": "8XQgytGGE3Qq"
      }
    },
    {
      "cell_type": "code",
      "source": [
        "with open(\"cosine_similarity.pkl\", \"wb\") as f:\n",
        "    pickle.dump(cosine_sim, f)\n",
        "\n",
        "with open(\"tfidf_vectorizer.pkl\", \"wb\") as f:\n",
        "    pickle.dump(vectorizer, f)\n",
        "\n",
        "output_df = df[['Product', 'Category', 'description']]\n",
        "output_df.to_csv(\"processed_amazon_products.csv\", index=False)\n",
        "\n",
        "print(\"Model dan data berhasil diekspor.\")"
      ],
      "metadata": {
        "colab": {
          "base_uri": "https://localhost:8080/"
        },
        "id": "YbszPIzrKpJ7",
        "outputId": "f98a6e64-f7bd-4c1e-bdd1-622296f29a1c"
      },
      "execution_count": null,
      "outputs": [
        {
          "output_type": "stream",
          "name": "stdout",
          "text": [
            "Model dan data berhasil diekspor.\n"
          ]
        }
      ]
    },
    {
      "cell_type": "markdown",
      "source": [
        "- Model cosine similarity dan TF-IDF vectorizer disimpan dalam file .pkl menggunakan pickle untuk digunakan kembali tanpa perlu pelatihan ulang.\n",
        "\n",
        "- Dataset hasil praproses (produk, kategori, dan deskripsi gabungan) diekspor ke file CSV untuk dokumentasi atau digunakan dalam aplikasi lain."
      ],
      "metadata": {
        "id": "CO--NzGVUOEg"
      }
    },
    {
      "cell_type": "markdown",
      "source": [
        "# 9. Summary"
      ],
      "metadata": {
        "id": "qCSeiiGVEyTi"
      }
    },
    {
      "cell_type": "markdown",
      "source": [
        "Hasil analisis ini menghasilkan sebuah model rekomendasi produk yang efektif dengan memanfaatkan teknik TF-IDF untuk vektorisasi teks dan cosine similarity untuk mengukur kemiripan antar produk berdasarkan deskripsi mereka. Model ini berhasil diproses dan disimpan bersama dengan data yang telah dipraproses, memungkinkan penggunaan kembali tanpa perlu pelatihan ulang. Dengan demikian, sistem ini siap untuk memberikan rekomendasi produk yang relevan kepada pengguna berdasarkan kesamaan deskripsi produk."
      ],
      "metadata": {
        "id": "6V6LMTi6r3NN"
      }
    }
  ]
}
